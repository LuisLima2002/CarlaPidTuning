{
 "cells": [
  {
   "cell_type": "code",
   "execution_count": 1,
   "metadata": {},
   "outputs": [
    {
     "name": "stderr",
     "output_type": "stream",
     "text": [
      "/home/operation/.local/lib/python3.10/site-packages/tqdm/auto.py:21: TqdmWarning: IProgress not found. Please update jupyter and ipywidgets. See https://ipywidgets.readthedocs.io/en/stable/user_install.html\n",
      "  from .autonotebook import tqdm as notebook_tqdm\n"
     ]
    }
   ],
   "source": [
    "import matplotlib.pyplot as plt\n",
    "from autogluon.tabular import TabularDataset, TabularPredictor\n",
    "import pandas as pd\n",
    "# from auxiliarFunctions import *\n",
    "from sklearn.model_selection import train_test_split"
   ]
  },
  {
   "cell_type": "code",
   "execution_count": 2,
   "metadata": {},
   "outputs": [],
   "source": [
    "##take all data\n",
    "data = pd.concat([\n",
    "                # pd.read_csv(\"./VariablesToSave.1.csv\",sep=\";\"),\n",
    "                # pd.read_csv(\"./VariablesToSave.2.csv\",sep=\";\"),\n",
    "                # pd.read_csv(\"./VariablesToSave.3.csv\",sep=\";\"),\n",
    "                pd.read_csv(\"./VariablesToSave.4.csv\",sep=\";\")\n",
    "                ])\n",
    "data = data.drop(\"Name\",axis=\"columns\")\n",
    "data = data.drop(\"lrSetPointTension\",axis=\"columns\")\n",
    "data = data.drop(\"lrDeadTimeCompensation\",axis=\"columns\")\n",
    "data = data.drop(\"lrTotalTorqueAdditive\",axis=\"columns\")\n",
    "data = data.drop(\"lrAccelerationRead\",axis=\"columns\")\n",
    "data = data.drop(\"lrVelocityRead\",axis=\"columns\")\n",
    "data = data.drop(\"lrActDiameter\",axis=\"columns\")\n",
    "data = data.drop(\"lrSyncVelocity\",axis=\"columns\")\n",
    "\n",
    "# data.to_csv(\"./data2.csv\",encoding='utf-8', index=False)\n",
    "##separate on takeandtrain data\n",
    "df = pd.DataFrame(data)\n",
    "train, test = train_test_split(df, test_size=0.2)\n",
    "train.to_csv(\"./trainData.csv\",encoding='utf-8', index=False)\n",
    "test.to_csv(\"./testData.csv\",encoding='utf-8', index=False)"
   ]
  },
  {
   "cell_type": "code",
   "execution_count": 3,
   "metadata": {},
   "outputs": [],
   "source": [
    "# ##plot correletion\n",
    "# corr_matrix = df.corr()\n",
    "# print(corr_matrix[\"Tension_0\"])\n"
   ]
  },
  {
   "cell_type": "markdown",
   "metadata": {},
   "source": [
    "Inputs: aMeasuredTension[1],aMeasuredTension[2],lrPIDVelocity\n",
    "OutPut: lrMeasuredForce"
   ]
  },
  {
   "cell_type": "code",
   "execution_count": 4,
   "metadata": {},
   "outputs": [
    {
     "name": "stderr",
     "output_type": "stream",
     "text": [
      "Warning: path already exists! This predictor may overwrite an existing predictor! path=\"../medium_quality-10min\"\n",
      "Presets specified: ['medium_quality']\n",
      "Beginning AutoGluon training ... Time limit = 600s\n",
      "AutoGluon will save models to \"../medium_quality-10min/\"\n",
      "AutoGluon Version:  0.8.2\n",
      "Python Version:     3.10.12\n",
      "Operating System:   Linux\n",
      "Platform Machine:   x86_64\n",
      "Platform Version:   #97-Ubuntu SMP Mon Oct 2 21:09:21 UTC 2023\n",
      "Disk Space Avail:   143.62 GB / 166.30 GB (86.4%)\n",
      "Train Data Rows:    2487720\n",
      "Train Data Columns: 3\n",
      "Label Column: lrMeasuredForce\n",
      "Preprocessing data ...\n",
      "AutoGluon infers your prediction problem is: 'regression' (because dtype of label-column == float and many unique label-values observed).\n",
      "\tLabel info (max, min, mean, stddev): (176.9418, 0.891, 41.6634, 24.77146)\n",
      "\tIf 'regression' is not the correct problem_type, please manually specify the problem_type parameter during predictor init (You may specify problem_type as one of: ['binary', 'multiclass', 'regression'])\n",
      "Using Feature Generators to preprocess the data ...\n",
      "Fitting AutoMLPipelineFeatureGenerator...\n",
      "\tAvailable Memory:                    11086.6 MB\n",
      "\tTrain Data (Original)  Memory Usage: 59.71 MB (0.5% of available memory)\n",
      "\tInferring data type of each feature based on column values. Set feature_metadata_in to manually specify special dtypes of the features.\n",
      "\tStage 1 Generators:\n",
      "\t\tFitting AsTypeFeatureGenerator...\n",
      "\tStage 2 Generators:\n",
      "\t\tFitting FillNaFeatureGenerator...\n",
      "\tStage 3 Generators:\n",
      "\t\tFitting IdentityFeatureGenerator...\n",
      "\tStage 4 Generators:\n",
      "\t\tFitting DropUniqueFeatureGenerator...\n",
      "\tStage 5 Generators:\n",
      "\t\tFitting DropDuplicatesFeatureGenerator...\n",
      "\tTypes of features in original data (raw dtype, special dtypes):\n",
      "\t\t('float', []) : 3 | ['aMeasuredTension[1]', 'aMeasuredTension[2]', 'lrPIDVelocity']\n",
      "\tTypes of features in processed data (raw dtype, special dtypes):\n",
      "\t\t('float', []) : 3 | ['aMeasuredTension[1]', 'aMeasuredTension[2]', 'lrPIDVelocity']\n",
      "\t3.5s = Fit runtime\n",
      "\t3 features in original data used to generate 3 features in processed data.\n",
      "\tTrain Data (Processed) Memory Usage: 59.71 MB (0.5% of available memory)\n",
      "Data preprocessing and feature engineering runtime = 3.73s ...\n",
      "AutoGluon will gauge predictive performance using evaluation metric: 'mean_absolute_error'\n",
      "\tThis metric's sign has been flipped to adhere to being higher_is_better. The metric score can be multiplied by -1 to get the metric value.\n",
      "\tTo change this, specify the eval_metric parameter of Predictor()\n",
      "Automatically generating train/validation split with holdout_frac=0.01, Train Rows: 2462842, Val Rows: 24878\n",
      "User-specified model hyperparameters to be fit:\n",
      "{\n",
      "\t'NN_TORCH': {},\n",
      "\t'GBM': [{'extra_trees': True, 'ag_args': {'name_suffix': 'XT'}}, {}, 'GBMLarge'],\n",
      "\t'CAT': {},\n",
      "\t'XGB': {},\n",
      "\t'FASTAI': {},\n",
      "\t'RF': [{'criterion': 'gini', 'ag_args': {'name_suffix': 'Gini', 'problem_types': ['binary', 'multiclass']}}, {'criterion': 'entropy', 'ag_args': {'name_suffix': 'Entr', 'problem_types': ['binary', 'multiclass']}}, {'criterion': 'squared_error', 'ag_args': {'name_suffix': 'MSE', 'problem_types': ['regression', 'quantile']}}],\n",
      "\t'XT': [{'criterion': 'gini', 'ag_args': {'name_suffix': 'Gini', 'problem_types': ['binary', 'multiclass']}}, {'criterion': 'entropy', 'ag_args': {'name_suffix': 'Entr', 'problem_types': ['binary', 'multiclass']}}, {'criterion': 'squared_error', 'ag_args': {'name_suffix': 'MSE', 'problem_types': ['regression', 'quantile']}}],\n",
      "\t'KNN': [{'weights': 'uniform', 'ag_args': {'name_suffix': 'Unif'}}, {'weights': 'distance', 'ag_args': {'name_suffix': 'Dist'}}],\n",
      "}\n",
      "Fitting 11 L1 models ...\n",
      "Fitting model: KNeighborsUnif ... Training model for up to 596.27s of the 596.26s of remaining time.\n",
      "\t-0.0587\t = Validation score   (-mean_absolute_error)\n",
      "\t7.94s\t = Training   runtime\n",
      "\t0.24s\t = Validation runtime\n",
      "Fitting model: KNeighborsDist ... Training model for up to 587.68s of the 587.68s of remaining time.\n",
      "\t-0.0585\t = Validation score   (-mean_absolute_error)\n",
      "\t7.56s\t = Training   runtime\n",
      "\t0.28s\t = Validation runtime\n",
      "Fitting model: LightGBMXT ... Training model for up to 579.32s of the 579.32s of remaining time.\n"
     ]
    },
    {
     "name": "stdout",
     "output_type": "stream",
     "text": [
      "[1000]\tvalid_set's l1: 0.404645\n",
      "[2000]\tvalid_set's l1: 0.339677\n",
      "[3000]\tvalid_set's l1: 0.305443\n"
     ]
    },
    {
     "name": "stderr",
     "output_type": "stream",
     "text": [
      "\tRan out of time, early stopping on iteration 3228. Best iteration is:\n",
      "\t[3228]\tvalid_set's l1: 0.300038\n",
      "\t-0.3\t = Validation score   (-mean_absolute_error)\n",
      "\t579.99s\t = Training   runtime\n",
      "\t1.3s\t = Validation runtime\n",
      "Fitting model: WeightedEnsemble_L2 ... Training model for up to 360.0s of the -2.14s of remaining time.\n",
      "\t-0.0582\t = Validation score   (-mean_absolute_error)\n",
      "\t0.46s\t = Training   runtime\n",
      "\t0.0s\t = Validation runtime\n",
      "AutoGluon training complete, total runtime = 603.17s ... Best model: \"WeightedEnsemble_L2\"\n",
      "TabularPredictor saved. To load, use: predictor = TabularPredictor.load(\"../medium_quality-10min/\")\n",
      "Evaluation: mean_absolute_error on test data: -0.05771101776037084\n",
      "\tNote: Scores are always higher_is_better. This metric score can be multiplied by -1 to get the metric value.\n",
      "Evaluations on test data:\n",
      "{\n",
      "    \"mean_absolute_error\": -0.05771101776037084,\n",
      "    \"root_mean_squared_error\": -0.21175831243660553,\n",
      "    \"mean_squared_error\": -0.04484158288599905,\n",
      "    \"r2\": 0.9999270040182933,\n",
      "    \"pearsonr\": 0.9999635034788673,\n",
      "    \"median_absolute_error\": -0.025127090454100554\n",
      "}\n"
     ]
    },
    {
     "name": "stdout",
     "output_type": "stream",
     "text": [
      "{'mean_absolute_error': -0.05771101776037084, 'root_mean_squared_error': -0.21175831243660553, 'mean_squared_error': -0.04484158288599905, 'r2': 0.9999270040182933, 'pearsonr': 0.9999635034788673, 'median_absolute_error': -0.025127090454100554}\n"
     ]
    }
   ],
   "source": [
    "train_data = TabularDataset('./trainData.csv')\n",
    "test_data = TabularDataset('./testData.csv')\n",
    "predictor = TabularPredictor(label=\"lrMeasuredForce\",eval_metric=\"mae\", \n",
    "                             path=f\"../medium_quality-10min\")\n",
    "predictor.fit(train_data,\n",
    "              presets=\"medium_quality\",\n",
    "              time_limit=10*60)\n",
    "test_data_nolab = test_data.drop(columns=[\"lrMeasuredForce\"])\n",
    "y_test = test_data.get(\"lrMeasuredForce\")\n",
    "y_pred = predictor.predict(test_data_nolab)\n",
    "perf = predictor.evaluate_predictions(y_true=y_test, \n",
    "                                      y_pred=y_pred, \n",
    "                                      auxiliary_metrics=True)\n",
    "print(str(perf))"
   ]
  },
  {
   "cell_type": "code",
   "execution_count": 9,
   "metadata": {},
   "outputs": [
    {
     "data": {
      "text/plain": [
       "0    0.945\n",
       "Name: lrMeasuredForce, dtype: float32"
      ]
     },
     "execution_count": 9,
     "metadata": {},
     "output_type": "execute_result"
    }
   ],
   "source": [
    "predictor.predict(pd.DataFrame([(0,0,0)],columns=['aMeasuredTension[1]', 'aMeasuredTension[2]', 'lrPIDVelocity']))"
   ]
  },
  {
   "cell_type": "code",
   "execution_count": 5,
   "metadata": {},
   "outputs": [
    {
     "data": {
      "image/png": "[encoded data removed]",
      "text/plain": [
       "<Figure size 640x480 with 1 Axes>"
      ]
     },
     "metadata": {},
     "output_type": "display_data"
    }
   ],
   "source": [
    "plt.plot(y_test)\n",
    "plt.plot(y_pred)\n",
    "plt.show()"
   ]
  }
 ],
 "metadata": {
  "kernelspec": {
   "display_name": "Python 3",
   "language": "python",
   "name": "python3"
  },
  "language_info": {
   "codemirror_mode": {
    "name": "ipython",
    "version": 3
   },
   "file_extension": ".py",
   "mimetype": "text/x-python",
   "name": "python",
   "nbconvert_exporter": "python",
   "pygments_lexer": "ipython3",
   "version": "3.10.12"
  }
 },
 "nbformat": 4,
 "nbformat_minor": 2
}
