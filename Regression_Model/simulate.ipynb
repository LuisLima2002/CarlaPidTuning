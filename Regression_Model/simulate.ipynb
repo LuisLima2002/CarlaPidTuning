{
 "cells": [
  {
   "cell_type": "code",
   "execution_count": null,
   "metadata": {},
   "outputs": [],
   "source": [
    "import matplotlib.pyplot as plt\n",
    "from autogluon.tabular import TabularDataset, TabularPredictor\n",
    "import pandas as pd"
   ]
  },
  {
   "cell_type": "markdown",
   "metadata": {},
   "source": [
    "Inputs: aMeasuredTension[1],aMeasuredTension[2],lrPIDVelocity\n",
    "OutPut: lrMeasuredForce"
   ]
  },
  {
   "cell_type": "code",
   "execution_count": null,
   "metadata": {},
   "outputs": [],
   "source": [
    "data = pd.read_csv(\"./data.csv\",sep=\",\")\n",
    "\n",
    "predictor = TabularPredictor.load(path=\"medium_quality-10min\")\n",
    "history=[]\n",
    "tension_1 =data[\"Tension_1\"][15]\n",
    "tension_2 =data[\"Tension_2\"][15]\n",
    "controllerOutput = data[\"ControllerOutput\"][15:5000].to_numpy()\n",
    "tension_real = data[\"Tension_0\"][15:5000].to_numpy()\n",
    "for i in range(len(controllerOutput)):\n",
    "    df = pd.DataFrame({\"Tension_1\":[tension_1],\n",
    "                    \"Tension_2\":[tension_2],\n",
    "                    \"ControllerOutput\":[controllerOutput[i]]})\n",
    "    tension_0 = predictor.predict(df)[0] # [22]\n",
    "    history.append(tension_0)\n",
    "    tension_2=tension_1\n",
    "    tension_1=tension_0\n",
    "plt.plot(history,label=\"simulated\")\n",
    "plt.plot(tension_real,label=\"real\")\n",
    "plt.legend()\n",
    "plt.show()"
   ]
  },
  {
   "cell_type": "code",
   "execution_count": null,
   "metadata": {},
   "outputs": [],
   "source": [
    "data = pd.read_csv(\"./data.csv\",sep=\",\")\n",
    "\n",
    "predictor = TabularPredictor.load(path=\"medium_quality-10min\")\n",
    "history=[]\n",
    "tension_1 =data[\"Tension_1\"][15:5000].to_numpy()\n",
    "tension_2 =data[\"Tension_2\"][15:5000].to_numpy()\n",
    "controllerOutput = data[\"ControllerOutput\"][15:5000].to_numpy()\n",
    "tension_real = data[\"Tension_0\"][15:5000].to_numpy()\n",
    "for i in range(len(controllerOutput)):\n",
    "    df = pd.DataFrame({\"Tension_1\":[tension_1[i]],\n",
    "                    \"Tension_2\":[tension_2[i]],\n",
    "                    \"ControllerOutput\":[controllerOutput[i]]})\n",
    "    tension_0 = predictor.predict(df)[0] \n",
    "plt.plot(history,label=\"simulated\")\n",
    "plt.plot(tension_real,label=\"real\")\n",
    "plt.legend()\n",
    "plt.show()"
   ]
  },
  {
   "cell_type": "markdown",
   "metadata": {},
   "source": [
    "aceitar modelo de regressao:\n",
    "    1- modelo de reg certo pela regressao e seguir com rl\n"
   ]
  },
  {
   "cell_type": "code",
   "execution_count": null,
   "metadata": {},
   "outputs": [],
   "source": [
    "data = pd.read_csv(\"./filteredData.csv\",sep=\",\")\n",
    "# data = pd.read_csv(\"./data.csv\",sep=\",\")\n",
    "predictor = TabularPredictor.load(path=\"medium_quality-10min-filteredData\")\n",
    "tension_real = data[\"Tension_0\"][0:100]\n",
    "tension_pred = predictor.predict(data)[0:100]\n",
    "plt.plot(tension_pred,label=\"predicted\")\n",
    "plt.plot(tension_real,label=\"real\")\n",
    "plt.legend()"
   ]
  },
  {
   "cell_type": "code",
   "execution_count": null,
   "metadata": {},
   "outputs": [],
   "source": [
    "y_pred = predictor.predict(data)[0:1000]\n",
    "y_test = data.get(\"Tension_0\")[0:1000]\n",
    "perf = predictor.evaluate_predictions(y_true=y_test, y_pred=y_pred, auxiliary_metrics=True)\n",
    "print(str(perf))\n",
    "plt.plot(y_test,label=\"real\")\n",
    "plt.plot(history,label=\"history\")\n",
    "plt.plot(y_pred,label=\"pred\")\n",
    "plt.legend()\n",
    "plt.show()"
   ]
  },
  {
   "cell_type": "code",
   "execution_count": null,
   "metadata": {},
   "outputs": [],
   "source": [
    "from sklearn.linear_model import LinearRegression\n",
    "import numpy as np\n",
    "allData = data.to_numpy()\n",
    "x=[]\n",
    "y=[]\n",
    "for dataItem in allData:\n",
    "    x.append([dataItem[0],dataItem[1],dataItem[2]])\n",
    "    y.append([dataItem[3]])\n",
    "reg = LinearRegression().fit(x, y)\n",
    "reg.score(x, y)\n"
   ]
  },
  {
   "cell_type": "code",
   "execution_count": null,
   "metadata": {},
   "outputs": [],
   "source": [
    "history=[]\n",
    "tension_1 =data[\"Tension_1\"][0]\n",
    "tension_2 =data[\"Tension_2\"][0]\n",
    "controllerOutput = data[\"ControllerOutput\"][0:10000]\n",
    "tension_real = data[\"Tension_0\"][0:10000]\n",
    "inputReg = []\n",
    "for i in range(10000):\n",
    "    inputReg = [[tension_1,tension_2,controllerOutput[i]]]\n",
    "    tension_0 = reg.predict(inputReg)[0]\n",
    "    history.append(tension_0)\n",
    "    tension_2=tension_1\n",
    "    tension_1=tension_0[0]\n",
    "\n",
    "plt.plot(history,label=\"simulated\")\n",
    "plt.plot(tension_real,label=\"real\")\n",
    "plt.legend()\n",
    "plt.show()\n",
    "#"
   ]
  }
 ],
 "metadata": {
  "kernelspec": {
   "display_name": "Python 3",
   "language": "python",
   "name": "python3"
  },
  "language_info": {
   "codemirror_mode": {
    "name": "ipython",
    "version": 3
   },
   "file_extension": ".py",
   "mimetype": "text/x-python",
   "name": "python",
   "nbconvert_exporter": "python",
   "pygments_lexer": "ipython3",
   "version": "3.10.12"
  }
 },
 "nbformat": 4,
 "nbformat_minor": 2
}
