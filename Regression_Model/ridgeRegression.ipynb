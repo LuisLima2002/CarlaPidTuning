{
 "cells": [
  {
   "cell_type": "code",
   "execution_count": 1,
   "metadata": {},
   "outputs": [
    {
     "name": "stderr",
     "output_type": "stream",
     "text": [
      "/home/operation/.local/lib/python3.10/site-packages/tqdm/auto.py:21: TqdmWarning: IProgress not found. Please update jupyter and ipywidgets. See https://ipywidgets.readthedocs.io/en/stable/user_install.html\n",
      "  from .autonotebook import tqdm as notebook_tqdm\n"
     ]
    }
   ],
   "source": [
    "import torch\n",
    "from torch import nn # nn contains all of pytorch's building blocks to a neural network\n",
    "import matplotlib.pyplot as plt\n",
    "import pandas as pd\n",
    "import numpy as np\n",
    "from sklearn.model_selection import train_test_split\n",
    "import torch.utils.data as dataUtil"
   ]
  },
  {
   "cell_type": "code",
   "execution_count": 2,
   "metadata": {},
   "outputs": [],
   "source": [
    "data = pd.concat([\n",
    "                # pd.read_csv(\"./VariablesToSave.1.csv\",sep=\";\"),\n",
    "                # pd.read_csv(\"./VariablesToSave.2.csv\",sep=\";\"),\n",
    "                # pd.read_csv(\"./VariablesToSave.3.csv\",sep=\";\"),\n",
    "                pd.read_csv(\"./VariablesToSave.4.csv\",sep=\";\")\n",
    "                ])"
   ]
  },
  {
   "cell_type": "code",
   "execution_count": 3,
   "metadata": {},
   "outputs": [],
   "source": [
    "data = data.drop(\"Name\",axis=\"columns\")\n",
    "data = data.drop(\"lrSetPointTension\",axis=\"columns\")\n",
    "data = data.drop(\"lrDeadTimeCompensation\",axis=\"columns\")\n",
    "data = data.drop(\"lrTotalTorqueAdditive\",axis=\"columns\")\n",
    "data = data.drop(\"lrAccelerationRead\",axis=\"columns\")\n",
    "data = data.drop(\"lrVelocityRead\",axis=\"columns\")\n",
    "data = data.drop(\"lrActDiameter\",axis=\"columns\")\n",
    "data = data.drop(\"lrSyncVelocity\",axis=\"columns\")\n",
    "# data = data.drop(\"aMeasuredTension[1]\",axis=\"columns\")\n",
    "# data = data.drop(\"aMeasuredTension[2]\",axis=\"columns\")\n",
    "\n",
    "# data.to_csv(\"./data.csv\",encoding='utf-8', index=False,sep=\";\")"
   ]
  },
  {
   "cell_type": "code",
   "execution_count": 4,
   "metadata": {},
   "outputs": [
    {
     "name": "stderr",
     "output_type": "stream",
     "text": [
      "/tmp/ipykernel_2411744/2929382495.py:3: UserWarning: Creating a tensor from a list of numpy.ndarrays is extremely slow. Please consider converting the list to a single numpy.ndarray with numpy.array() before converting to a tensor. (Triggered internally at  ../torch/csrc/utils/tensor_new.cpp:204.)\n",
      "  X=torch.tensor(list(data.values),dtype=torch.float32)\n"
     ]
    },
    {
     "name": "stdout",
     "output_type": "stream",
     "text": [
      "tensor([[42.7680, 42.7680, -0.2985],\n",
      "        [42.8706, 42.7680, -0.4056],\n",
      "        [42.8166, 42.8706, -0.3468],\n",
      "        [42.9192, 42.8166, -0.4540],\n",
      "        [42.8706, 42.9192, -0.4009],\n",
      "        [42.9192, 42.8706, -0.4510],\n",
      "        [42.9192, 42.9192, -0.4496],\n",
      "        [42.9678, 42.9192, -0.4998],\n",
      "        [42.9678, 42.9678, -0.4986],\n",
      "        [42.9678, 42.9678, -0.4974]])\n"
     ]
    }
   ],
   "source": [
    "y=torch.tensor(data[\"lrMeasuredForce\"],dtype=torch.float32).unsqueeze(dim=1)\n",
    "data = data.drop(\"lrMeasuredForce\",axis=\"columns\")\n",
    "X=torch.tensor(list(data.values),dtype=torch.float32)\n",
    "X_train, X_test, y_train, y_test = train_test_split(X, y, test_size=0.2, random_state=42)\n",
    "print(X[0:10])"
   ]
  },
  {
   "cell_type": "code",
   "execution_count": 5,
   "metadata": {},
   "outputs": [],
   "source": [
    "# from sklearn.linear_model import Ridge\n",
    "# reg = Ridge(alpha=1000).fit(X.detach().numpy(), y.detach().numpy())\n",
    "from sklearn.svm import SVR\n",
    "reg= SVR(kernel=\"rbf\", C=100, gamma=0.1, epsilon=0.1).fit(X.detach().numpy(), y.detach().numpy()[:,0])\n",
    "print(reg.score(X, y))\n",
    "y_predicted=reg.predict(X)\n",
    "plt.plot(y,label=\"real\")\n",
    "plt.plot(y_predicted,label=\"predicted\")\n",
    "plt.legend()\n",
    "plt.show()"
   ]
  },
  {
   "cell_type": "code",
   "execution_count": null,
   "metadata": {},
   "outputs": [],
   "source": [
    "# tension_1 tension_2 Pid velocity\n",
    "start=40500\n",
    "end=109000\n",
    "history=[]\n",
    "tension_1 =X[start][0]\n",
    "tension_2 =X[start][1]\n",
    "controllerOutput = X[start:end][:,2]\n",
    "tension_real =  y[start:end]\n",
    "\n",
    "\n",
    "for i in range(len(controllerOutput)):\n",
    "    #create real tensor \n",
    "    # input = torch.tensor([tension_1,tension_2,controllerOutput[i],speed[i]],dtype=torch.float32)\n",
    "    input = torch.tensor([tension_1,tension_2,controllerOutput[i]],dtype=torch.float32)\n",
    "    tension_0 = reg.predict([input.detach().numpy()])[0][0]\n",
    "    history.append(tension_0)\n",
    "    tension_2=tension_1\n",
    "    tension_1=tension_0\n",
    "plt.plot(history,label=\"simulated\")\n",
    "plt.plot(tension_real,label=\"real\")\n",
    "# plt.plot(controllerOutput,label=\"outputs\")\n",
    "plt.legend()\n",
    "plt.show()"
   ]
  }
 ],
 "metadata": {
  "kernelspec": {
   "display_name": "Python 3",
   "language": "python",
   "name": "python3"
  },
  "language_info": {
   "codemirror_mode": {
    "name": "ipython",
    "version": 3
   },
   "file_extension": ".py",
   "mimetype": "text/x-python",
   "name": "python",
   "nbconvert_exporter": "python",
   "pygments_lexer": "ipython3",
   "version": "3.10.12"
  }
 },
 "nbformat": 4,
 "nbformat_minor": 2
}
