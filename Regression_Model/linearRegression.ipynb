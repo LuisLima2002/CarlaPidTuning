{
 "cells": [
  {
   "cell_type": "code",
   "execution_count": 1,
   "metadata": {},
   "outputs": [
    {
     "name": "stderr",
     "output_type": "stream",
     "text": [
      "/home/operation/.local/lib/python3.10/site-packages/tqdm/auto.py:21: TqdmWarning: IProgress not found. Please update jupyter and ipywidgets. See https://ipywidgets.readthedocs.io/en/stable/user_install.html\n",
      "  from .autonotebook import tqdm as notebook_tqdm\n"
     ]
    }
   ],
   "source": [
    "import torch\n",
    "from torch import nn # nn contains all of pytorch's building blocks to a neural network\n",
    "import matplotlib.pyplot as plt\n",
    "import pandas as pd\n",
    "import numpy as np\n",
    "from sklearn.model_selection import train_test_split\n",
    "import torch.utils.data as dataUtil"
   ]
  },
  {
   "cell_type": "code",
   "execution_count": 2,
   "metadata": {},
   "outputs": [
    {
     "name": "stdout",
     "output_type": "stream",
     "text": [
      "Name                      0.062777\n",
      "lrSetPointTension         0.952167\n",
      "lrDeadTimeCompensation         NaN\n",
      "aMeasuredTension[1]       0.999890\n",
      "aMeasuredTension[2]       0.999587\n",
      "lrPIDVelocity            -0.035573\n",
      "lrSyncVelocity            0.009344\n",
      "lrTotalTorqueAdditive     0.529664\n",
      "lrAccelerationRead       -0.058066\n",
      "lrVelocityRead            0.003743\n",
      "lrActDiameter            -0.014610\n",
      "lrMeasuredForce           1.000000\n",
      "Name: lrMeasuredForce, dtype: float64\n"
     ]
    }
   ],
   "source": [
    "data = pd.concat([\n",
    "                # pd.read_csv(\"./VariablesToSave.1.csv\",sep=\";\"),\n",
    "                # pd.read_csv(\"./VariablesToSave.2.csv\",sep=\";\"),\n",
    "                # pd.read_csv(\"./VariablesToSave.3.csv\",sep=\";\"),\n",
    "                pd.read_csv(\"./VariablesToSave.4.csv\",sep=\";\")\n",
    "                ])\n",
    "\n",
    "print(data.corr()[\"lrMeasuredForce\"])"
   ]
  },
  {
   "cell_type": "code",
   "execution_count": null,
   "metadata": {},
   "outputs": [],
   "source": [
    "data = data.drop(\"Name\",axis=\"columns\")\n",
    "data = data.drop(\"lrSetPointTension\",axis=\"columns\")\n",
    "lrDeadTimeCompensation = data[\"lrDeadTimeCompensation\"]\n",
    "data = data.drop(\"lrDeadTimeCompensation\",axis=\"columns\")\n",
    "lrTotalTorqueAdditive = data[\"lrTotalTorqueAdditive\"]\n",
    "data = data.drop(\"lrTotalTorqueAdditive\",axis=\"columns\")\n",
    "lrAccelerationRead = data[\"lrAccelerationRead\"]\n",
    "data = data.drop(\"lrAccelerationRead\",axis=\"columns\")\n",
    "lrVelocityRead = data[\"lrVelocityRead\"]\n",
    "data = data.drop(\"lrVelocityRead\",axis=\"columns\")\n",
    "lrActDiameter = data[\"lrActDiameter\"]\n",
    "data = data.drop(\"lrActDiameter\",axis=\"columns\")\n",
    "lrSyncVelocity = data[\"lrSyncVelocity\"]\n",
    "data = data.drop(\"lrSyncVelocity\",axis=\"columns\")\n",
    "# data = data.drop(\"aMeasuredTension[1]\",axis=\"columns\")\n",
    "# data = data.drop(\"aMeasuredTension[2]\",axis=\"columns\")\n",
    "\n",
    "# data.to_csv(\"./data.csv\",encoding='utf-8', index=False,sep=\";\")"
   ]
  },
  {
   "cell_type": "code",
   "execution_count": null,
   "metadata": {},
   "outputs": [],
   "source": [
    "y=torch.tensor(data[\"lrMeasuredForce\"],dtype=torch.float32).unsqueeze(dim=1)\n",
    "data = data.drop(\"lrMeasuredForce\",axis=\"columns\")\n",
    "X=torch.tensor(list(data.values),dtype=torch.float32)\n",
    "X_train, X_test, y_train, y_test = train_test_split(X, y, test_size=0.2, random_state=42)\n",
    "print(X[0:10])"
   ]
  },
  {
   "cell_type": "code",
   "execution_count": null,
   "metadata": {},
   "outputs": [],
   "source": [
    "from sklearn.linear_model import LinearRegression\n",
    "reg = LinearRegression().fit(X.detach().numpy(), y.detach().numpy())\n",
    "print(reg.score(X, y))\n",
    "y_predicted=reg.predict(X)\n",
    "print(reg.coef_)\n",
    "# plt.plot(y,label=\"real\")\n",
    "# plt.plot(y_predicted,label=\"predicted\")\n",
    "# plt.legend()\n",
    "# plt.show()\n",
    "# 0.99995541631530487"
   ]
  },
  {
   "cell_type": "code",
   "execution_count": null,
   "metadata": {},
   "outputs": [],
   "source": [
    "# tension_1 tension_2 Pid velocity\n",
    "start=55500\n",
    "end=150500\n",
    "history=[]\n",
    "tension_1 =X[start][0]\n",
    "tension_2 =X[start][1]\n",
    "controllerOutput = X[start:end][:,2]\n",
    "# torque =  X[start:end][:,3]\n",
    "# acc =  X[start:end][:,4]\n",
    "# diameter =  X[start:end][:,5]\n",
    "tension_real =  y[start:end]\n",
    "\n",
    "\n",
    "for i in range(len(controllerOutput)):\n",
    "    #create real tensor \n",
    "    # input = torch.tensor([tension_1,tension_2,controllerOutput[i],torque[i],acc[i]],dtype=torch.float32)\n",
    "    input = torch.tensor([tension_1,tension_2,controllerOutput[i]],dtype=torch.float32)\n",
    "    tension_0 = reg.predict([input.detach().numpy()])[0][0]\n",
    "    history.append(tension_0)\n",
    "    tension_2=tension_1\n",
    "    tension_1=tension_0\n",
    "plt.plot(history,label=\"simulated\")\n",
    "plt.plot(tension_real,label=\"real\")\n",
    "plt.legend()\n",
    "plt.show()\n",
    "\n",
    "plt.plot(lrDeadTimeCompensation[start:end].to_numpy(),label=\"lrDeadTimeCompensation\")\n",
    "plt.legend()\n",
    "plt.show()\n",
    "\n",
    "plt.plot(lrTotalTorqueAdditive[start:end].to_numpy(),label=\"lrTotalTorqueAdditive\")\n",
    "plt.legend()\n",
    "plt.show()\n",
    "\n",
    "plt.plot(lrAccelerationRead[start:end].to_numpy(),label=\"lrAccelerationRead\")\n",
    "plt.legend()\n",
    "plt.show()\n",
    "\n",
    "plt.plot(lrVelocityRead[start:end].to_numpy(),label=\"lrVelocityRead\")\n",
    "plt.legend()\n",
    "plt.show()\n",
    "\n",
    "plt.plot(lrActDiameter[start:end].to_numpy(),label=\"lrActDiameter\")\n",
    "plt.legend()\n",
    "plt.show()\n",
    "\n",
    "plt.plot(lrSyncVelocity[start:end].to_numpy(),label=\"lrSyncVelocity\")\n",
    "plt.legend()\n",
    "plt.show()"
   ]
  }
 ],
 "metadata": {
  "kernelspec": {
   "display_name": "Python 3",
   "language": "python",
   "name": "python3"
  },
  "language_info": {
   "codemirror_mode": {
    "name": "ipython",
    "version": 3
   },
   "file_extension": ".py",
   "mimetype": "text/x-python",
   "name": "python",
   "nbconvert_exporter": "python",
   "pygments_lexer": "ipython3",
   "version": "3.10.12"
  }
 },
 "nbformat": 4,
 "nbformat_minor": 2
}
